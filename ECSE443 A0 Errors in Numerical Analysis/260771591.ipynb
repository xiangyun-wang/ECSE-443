{
 "cells": [
  {
   "cell_type": "markdown",
   "metadata": {
    "deletable": false,
    "editable": false,
    "nbgrader": {
     "cell_type": "markdown",
     "checksum": "ab87bba84f2c257b421f9d6bdea24fcb",
     "grade": false,
     "grade_id": "cell-6bcbc7a749d5443c",
     "locked": true,
     "schema_version": 3,
     "solution": false,
     "task": false
    }
   },
   "source": [
    "<center><h1>ECSE 443: Introduction to Numerical Analysis in Electrical Engineering</h1></center>\n",
    "<center><h3>Assignment 0: Errors in numerical analysis</h3></center>\n",
    "<center><h3>Due: Friday, January 20<sup>th</sup>, 2020 at 11:59pm EST on <a href='https://mycourses2.mcgill.ca/'>myCourses</a></h3></center>\n",
    "<center><h3>Final weight: 0%</h3></center>"
   ]
  },
  {
   "cell_type": "markdown",
   "metadata": {
    "deletable": false,
    "editable": false,
    "nbgrader": {
     "cell_type": "markdown",
     "checksum": "0fdb55b1d83aef44abc880ec55744678",
     "grade": false,
     "grade_id": "cell-287dffe9105e0c4e",
     "locked": true,
     "schema_version": 3,
     "solution": false,
     "task": false
    }
   },
   "source": [
    "# Assignment submission process\n",
    "\n",
    "Download and modify the ipynb notebook we provide on myCourses and submit your modified file, renamed according to your student id as -\n",
    "\n",
    "<font color='red'>[YourStudentId].ipynb</font>\n",
    "\n",
    "For example, if your id is **234567890**, your submission filename should be **234567890.ipynb**.\n",
    "\n",
    "Note that every time you submit a new file, your previous sumbission will be overwritten. **All submissions must be made using myCourses**.\n",
    "\n",
    "## Late policy :  non-negotiable time-based penalty\n",
    "\n",
    "This assignment is to be completed individually.\n",
    "\n",
    "<font color='red'>You will lose **5% per hour** on the assignment past the deadline, up to a maximum of -100%.</font>"
   ]
  },
  {
   "cell_type": "markdown",
   "metadata": {
    "deletable": false,
    "editable": false,
    "nbgrader": {
     "cell_type": "markdown",
     "checksum": "d39df965d8accce4c8f7269d91713028",
     "grade": false,
     "grade_id": "cell-91e5e52b8f681cab",
     "locked": true,
     "schema_version": 3,
     "solution": false,
     "task": false
    }
   },
   "source": [
    "## Import statements\n",
    "\n",
    "We provide the import statements required to complete the assignment in the following cell. \n",
    "\n",
    "<font color='red'>Import policy: You must not use any other imports other than the ones provided. Doing so will result in a score of **zero (0%)** in the assignment.</font>"
   ]
  },
  {
   "cell_type": "markdown",
   "metadata": {
    "deletable": false,
    "editable": false,
    "nbgrader": {
     "cell_type": "markdown",
     "checksum": "0c3e3f184d490496bcbaa7f7e1dec889",
     "grade": false,
     "grade_id": "cell-57625a42f96aab56",
     "locked": true,
     "schema_version": 3,
     "solution": false,
     "task": false
    }
   },
   "source": [
    "<font color='blue'>**Run** the following cell to include the needed modules.</font>"
   ]
  },
  {
   "cell_type": "code",
   "execution_count": 1,
   "metadata": {
    "deletable": false,
    "editable": false,
    "nbgrader": {
     "cell_type": "code",
     "checksum": "9a675d99989be36d7ee9d4b4da909720",
     "grade": false,
     "grade_id": "cell-cac709bdd4945180",
     "locked": true,
     "schema_version": 3,
     "solution": false,
     "task": false
    }
   },
   "outputs": [],
   "source": [
    "from numpy import array, arange, zeros, linspace, roll           # array and array manipulation\n",
    "from numpy import log, exp, sum, average, max, abs, cos, sin, pi # math functions\n",
    "from numpy import float32, float64, int32                        # data type conversion\n",
    "import matplotlib.pyplot as plt                                  # plotting \n",
    "from numpy.random import normal                                  # random numbers"
   ]
  },
  {
   "cell_type": "markdown",
   "metadata": {
    "deletable": false,
    "editable": false,
    "nbgrader": {
     "cell_type": "markdown",
     "checksum": "25ab679208e0ed76bd210849da518207",
     "grade": false,
     "grade_id": "cell-357ca61a72d81ac5",
     "locked": true,
     "schema_version": 3,
     "solution": false,
     "task": false
    }
   },
   "source": [
    "# Computer arithmetic\n",
    "\n",
    "We will learn about errors due to fixed precision floating point representations. We will face these limitations in the implementation of several simple numerical algorithms.\n",
    "\n",
    "## Learning objectives\n",
    "1. Loss of significant digits due to *difference in scales* and *catastrophic cancellation*:\n",
    "\n",
    "  a. Summing numbers with different scales, e.g., $10^{38} + 10^{-24}$.\n",
    "\n",
    "  b. Catastrophic cancellation, e.g., $1.38383\\times 10^{38}  - 1.38382\\times 10^{38}$. \n",
    "\n",
    "2. Error accumulation due to *round-offs* during operations on lengthy floating point sequences, e.g., $\\displaystyle\\sum\\limits_{i=0}^{10^{38}}1.0$\n",
    "\n",
    "3. *Overflow* and *underflow*, e.g., $10^{24} \\times 10^{10}$.\n",
    "\n",
    "<font color='dark pink'>In Python, unlike other languages like C/C++/Java, any expression containing an integer and floating point arithmetic is automatically cast to the high precision (64-bit) floating point to avoid loss of precision due to conversions from integer to floating point.</font>\n",
    "\n",
    "<font color='blue'>For this assignment, we ask that you **explicitly cast values to float32** before using them in an expression containing mixed floating point and integer variables.</font>\n",
    "\n",
    "The following *code excerpt* illustrates this issue"
   ]
  },
  {
   "cell_type": "code",
   "execution_count": 2,
   "metadata": {
    "deletable": false,
    "editable": false,
    "nbgrader": {
     "cell_type": "code",
     "checksum": "6d0c48a24d31c46b79d896248bd851f8",
     "grade": false,
     "grade_id": "cell-a2ce13438c4010b4",
     "locked": true,
     "schema_version": 3,
     "solution": false,
     "task": false
    }
   },
   "outputs": [
    {
     "name": "stdout",
     "output_type": "stream",
     "text": [
      "default integer-float32 arithmetic:\n",
      "<class 'numpy.float64'>\n",
      "forced integer-float32 arithmetic:\n",
      "<class 'numpy.float32'>\n"
     ]
    }
   ],
   "source": [
    "K = 10              # integer\n",
    "f = float32(6.4)    # 32-bit float\n",
    "\n",
    "val1 = f/K          # default - val is evaluated with 64-bit precsion \n",
    "val2 = f/float32(K) # forced - val is evaluated with 32-bit precision\n",
    "\n",
    "print(\"default integer-float32 arithmetic:\") # output: default integer-float32 arithmetic:\n",
    "print(type(val1))                            # output: <class 'numpy.float64'=\"\">\n",
    "print(\"forced integer-float32 arithmetic:\")  # output: forced integer-float32 arithmetic:\n",
    "print(type(val2))                            # output: <class 'numpy.float32'=\"\">"
   ]
  },
  {
   "cell_type": "markdown",
   "metadata": {
    "deletable": false,
    "editable": false,
    "nbgrader": {
     "cell_type": "markdown",
     "checksum": "93f912257b2505748f9eb3686411f718",
     "grade": false,
     "grade_id": "cell-0971b847f7ba2f7e",
     "locked": true,
     "schema_version": 3,
     "solution": false,
     "task": false
    }
   },
   "source": [
    "## Floating point system\n",
    "\n",
    "A <u>*floating point system*</u> can be characterized by four values $(\\beta,\\, t,\\, L,\\, U)$, where\n",
    "* $\\beta$ is the base of the number system,\n",
    "* $t$ is the precision (i.e. number of digits),\n",
    "* $L$ is the lower bound on exponent $e$ and \n",
    "* $U$ is the upper bound on exponent $e$.\n",
    "\n",
    "In such a system, we write a number $x$ in it's floating point representation $\\mathrm{fl}(x)$ as:\n",
    "\n",
    "$$\\mathrm{fl}(x) = \\underbrace{\\pm}_{\\text{sign}}\\displaystyle\\left( \\underbrace{\\frac{\\tilde{d}_0}{\\beta^0} + \\frac{\\tilde{d}_1}{\\beta^1} + \\cdots +\\frac{\\tilde{d}_{t-1}}{\\beta^{t-1}}  }_{\\text{mantisse}} \\right)\\times\\underbrace{\\beta^e}_{\\text{exponent}}$$\n",
    "\n",
    "where the base $\\beta$ is an integer greater than 1 and $\\tilde{d}_i$ are integer digits in the range $0\\le \\tilde{d}_i\\leq\\beta-1$. The number $\\mathrm{fl}(x)$ is an approximation of $x$. To ensure uniqueness of this representation, it is normalized to satisfy $\\tilde{d}_0 \\neq 0$ by adjusting the *exponent* $e$ so that leading zeros are dropped. In addition, $e$ must be in the range $L \\leq e \\leq U$.\n",
    "\n",
    "\n",
    "<font color='blue'>The following code generates all possible floating point numbers that can be perfectly represented by the parameterized floating point system characterized above. **Read** and **run** the following cell to better understand the fixed precision floating point system.</font>"
   ]
  },
  {
   "cell_type": "code",
   "execution_count": 3,
   "metadata": {
    "deletable": false,
    "editable": false,
    "nbgrader": {
     "cell_type": "code",
     "checksum": "639b03721a565a309a6d6826ea0c1196",
     "grade": false,
     "grade_id": "cell-a1ff4de9038d5e19",
     "locked": true,
     "schema_version": 3,
     "solution": false,
     "task": false
    }
   },
   "outputs": [
    {
     "data": {
      "image/png": "[encoded data removed]",
      "text/plain": [
       "<Figure size 432x288 with 1 Axes>"
      ]
     },
     "metadata": {
      "needs_background": "light"
     },
     "output_type": "display_data"
    }
   ],
   "source": [
    "def FloatPointSystem(beta, t, L, U):\n",
    "\n",
    "  # smallest possible number in the mantissa, (1.00...0)_beta, expressed in base 10\n",
    "  smallest = 1*beta**0 # 1.00\n",
    "\n",
    "  # largest possible number in the mantissa, (beta-1. beta-1  beta-1... beta-1)_beta, expressed in base 10\n",
    "  largest = sum([ (beta-1) * beta**-k for k in range(0,t)])\n",
    "\n",
    "  # special case: add 0 to the list\n",
    "  x = [0]\n",
    "\n",
    "  # loop over all possible mantissa numbers\n",
    "  step =  beta**(1-t)\n",
    "  for mantissa in arange(smallest, largest + step, step):\n",
    "    # loop over all possible exponents\n",
    "    for exponent in range(L, U+1):\n",
    "      # add both positive and negative numbers due to the settings of the sign bit\n",
    "      tok = mantissa * beta**exponent\n",
    "      x.append(tok)\n",
    "      x.append(-tok)\n",
    "  \n",
    "  # (Optional) sort the entries for plotting purposes\n",
    "  x.sort()\n",
    "  \n",
    "  # return the list\n",
    "  return x\n",
    "\n",
    "# Instantiate a fictitious floating point system with parameters (beta, t, L, U) = (2,3,-2,3)\n",
    "beta, t, L, U = (2,3,-2,3)\n",
    "x = FloatPointSystem(beta, t, L, U)\n",
    "\n",
    "# Plot a + at each perfectly representable value along the real line\n",
    "y = zeros(len(x));\n",
    "plt.plot(x ,y, '+')\n",
    "plt.xlabel('$\\mathrm{fl}(x)$')\n",
    "plt.title('All perfectly representable numbers of the (fictitious) floating point system $(2,3,-1,3)$')\n",
    "plt.show();"
   ]
  },
  {
   "cell_type": "markdown",
   "metadata": {
    "deletable": false,
    "editable": false,
    "nbgrader": {
     "cell_type": "markdown",
     "checksum": "cad3fd7f559580d9e3737ced5d945c64",
     "grade": false,
     "grade_id": "cell-04faac07f0287fa5",
     "locked": true,
     "schema_version": 3,
     "solution": false,
     "task": false
    }
   },
   "source": [
    "## Task 1 - Finite differences\n",
    "\n",
    "A common approach to approximate the first derivative $f'(x)$ of a function $f(x)$ is to use the *finite difference* method, which can be derived using the first-order terms of the Taylor series expansion of the function, about $x_0$: $f(x_0) = f(x_0 + h) + hf'(x_0) + \\mathcal{O}(h^2)$.\n",
    "\n",
    "Rearranging terms to solve for $f'$ -- and dropping the higher-order terms -- yields the first-order finite difference approximation:\n",
    "\n",
    "$$f'(x_0) \\approx \\frac{f(x_0 + h) - f(x_0)}{h}$$\n",
    "\n",
    "<font color='blue'>Your task is to **implement this finite difference approximation of $f'(x)$ for $f(x) = \\sin(x)$**, in the cell, below:</font>"
   ]
  },
  {
   "cell_type": "code",
   "execution_count": 4,
   "metadata": {
    "deletable": false,
    "nbgrader": {
     "cell_type": "code",
     "checksum": "453d1989f0e5436fe4516edcde0b3630",
     "grade": false,
     "grade_id": "cell-f62f216f54eae055",
     "locked": false,
     "schema_version": 3,
     "solution": true,
     "task": false
    }
   },
   "outputs": [],
   "source": [
    "from math import pi #missing import at the top\n",
    "\n",
    "def finiteDifference(x_0, h):\n",
    "    ret = 0\n",
    "    # YOUR CODE HERE\n",
    "    ret = sin(x_0+h)-sin(x_0)\n",
    "    \n",
    "    return ret"
   ]
  },
  {
   "cell_type": "markdown",
   "metadata": {
    "deletable": false,
    "editable": false,
    "nbgrader": {
     "cell_type": "markdown",
     "checksum": "e62f5df92903530c117c0d4a52abd04e",
     "grade": false,
     "grade_id": "cell-81bffe3c696deb2b",
     "locked": true,
     "schema_version": 3,
     "solution": false,
     "task": false
    }
   },
   "source": [
    "The *numerical error* of this finite difference approximation is given by\n",
    "\n",
    "$$\\left\\lvert f'(x) - \\frac{f(x+h) - f(x)}{h}\\right\\rvert ,$$\n",
    "\n",
    "where -- in this example -- we have the luxury of computing an analytically-correct $f'(x)$ as $f'(x) = \\cos(x)$.\n",
    "\n",
    "<font color='blue'>**`Run`** the following cell.</font>\n"
   ]
  },
  {
   "cell_type": "code",
   "execution_count": 5,
   "metadata": {
    "deletable": false,
    "editable": false,
    "nbgrader": {
     "cell_type": "code",
     "checksum": "edd2fd1bc063db1a5d30d74ec1c629c5",
     "grade": false,
     "grade_id": "cell-e44aa78526da4e63",
     "locked": true,
     "schema_version": 3,
     "solution": false,
     "task": false
    }
   },
   "outputs": [],
   "source": [
    "def numericalError(x_0, h):\n",
    "    return abs(cos(x_0) - finiteDifference(x_0, h))"
   ]
  },
  {
   "cell_type": "markdown",
   "metadata": {
    "deletable": false,
    "editable": false,
    "nbgrader": {
     "cell_type": "markdown",
     "checksum": "6eca369fe3c6241ded4d43acd17f93b3",
     "grade": false,
     "grade_id": "cell-2473fd80a6213f4c",
     "locked": true,
     "schema_version": 3,
     "solution": false,
     "task": false
    }
   },
   "source": [
    "We can also approximate the *discretization error* analytically as $\\left\\lvert {h f''(x)}\\big/{2}\\right\\rvert ,$\n",
    "where $f''(x) = -\\sin(x)$.\n",
    "\n",
    "<font color='blue'>**`Run`** the following cell.</font>"
   ]
  },
  {
   "cell_type": "code",
   "execution_count": 6,
   "metadata": {
    "deletable": false,
    "editable": false,
    "nbgrader": {
     "cell_type": "code",
     "checksum": "86990aaf78ec80cb55aee760886fe5ca",
     "grade": false,
     "grade_id": "cell-aee758f39dc85085",
     "locked": true,
     "schema_version": 3,
     "solution": false,
     "task": false
    }
   },
   "outputs": [],
   "source": [
    "def discretizationError(x_0, h):\n",
    "    return h * abs(sin(x_0)) / 2.0 "
   ]
  },
  {
   "cell_type": "markdown",
   "metadata": {
    "deletable": false,
    "editable": false,
    "nbgrader": {
     "cell_type": "markdown",
     "checksum": "1ce49b70c5638eb7a4fe46330038ea37",
     "grade": false,
     "grade_id": "cell-d3bba777009aaca5",
     "locked": true,
     "schema_version": 3,
     "solution": false,
     "task": false
    }
   },
   "source": [
    "<font color='blue'>**`Run`** the following cell to explore the interplay between the round-off and discretization errors. You should observe that, as $h$ decreases, round-off errors dominate.</font>"
   ]
  },
  {
   "cell_type": "code",
   "execution_count": 7,
   "metadata": {
    "deletable": false,
    "editable": false,
    "nbgrader": {
     "cell_type": "code",
     "checksum": "ee0435e071ee47982c449af23b5a751d",
     "grade": false,
     "grade_id": "cell-4e5a37c31e176680",
     "locked": true,
     "schema_version": 3,
     "solution": false,
     "task": false
    }
   },
   "outputs": [
    {
     "data": {
      "image/png": "[encoded data removed]",
      "text/plain": [
       "<Figure size 432x288 with 1 Axes>"
      ]
     },
     "metadata": {
      "needs_background": "light"
     },
     "output_type": "display_data"
    }
   ],
   "source": [
    "# Compute the finite difference approximations at a fixed x_0\n",
    "x_0 = pi/4\n",
    "\n",
    "# Step size for h, in log scale\n",
    "log_h = [i for i in range(0, 20)]\n",
    "\n",
    "errorNumerical = [numericalError(x_0, 10**(-i)) for i in range(0, 20)]\n",
    "errorDiscrete = [discretizationError(x_0, 10**(-i)) for i in range(0, 20)]\n",
    "\n",
    "plt.plot(log_h, errorNumerical, label=\"Numerical error\")\n",
    "plt.plot(log_h, errorDiscrete, label=\"Discretization error\")\n",
    "plt.xlabel(\"h (in log scale)\")\n",
    "plt.title(\"Error in finite difference\")\n",
    "plt.legend()\n",
    "plt.show()   "
   ]
  },
  {
   "cell_type": "code",
   "execution_count": 8,
   "metadata": {
    "deletable": false,
    "editable": false,
    "nbgrader": {
     "cell_type": "code",
     "checksum": "f68abf9b7266d14ba3d2235c9e89bb8e",
     "grade": true,
     "grade_id": "cell-fe80f62eb5abc1aa",
     "locked": true,
     "points": 0.5,
     "schema_version": 3,
     "solution": false,
     "task": false
    }
   },
   "outputs": [],
   "source": [
    "x_0 = 3.141 / 10\n",
    "h = 25\n",
    "assert (finiteDifference(x_0, h) + 0.005143) < 1e-4"
   ]
  },
  {
   "cell_type": "markdown",
   "metadata": {
    "deletable": false,
    "editable": false,
    "nbgrader": {
     "cell_type": "markdown",
     "checksum": "1138af13f3cbc04a7389ac4bf6fe4ad9",
     "grade": false,
     "grade_id": "cell-3f75d5df9f3ab797",
     "locked": true,
     "schema_version": 3,
     "solution": false,
     "task": false
    }
   },
   "source": [
    "## Task 2 - Log sum of exponentials\n",
    "\n",
    "### Naive formulation\n",
    "We wish to evaluate the log of the sum of exponentials of a set of $N$ values $x_i$, as defined by the following expression:\n",
    "\n",
    "$$y = \\log \\displaystyle\\left(\\sum\\limits_{i=1}^{N} \\exp(x_i)\\right)~.$$\n",
    "\n",
    "Computing this expression naively may cause the exponential term within the summation to overflow.\n",
    "\n",
    "<font color='blue'>We provide the naive implementation, below. **`Run`** the following cell.</font>"
   ]
  },
  {
   "cell_type": "code",
   "execution_count": 9,
   "metadata": {
    "deletable": false,
    "editable": false,
    "nbgrader": {
     "cell_type": "code",
     "checksum": "61177b29c5fcf224069a14e8dde3197f",
     "grade": false,
     "grade_id": "cell-b39d797aca50412f",
     "locked": true,
     "schema_version": 3,
     "solution": false,
     "task": false
    }
   },
   "outputs": [],
   "source": [
    "# x is a `numpy` array of the $N$ values $x_i$\n",
    "def LogSumExpNaive(x):\n",
    "  return log(sum(exp(x)))"
   ]
  },
  {
   "cell_type": "markdown",
   "metadata": {
    "deletable": false,
    "editable": false,
    "nbgrader": {
     "cell_type": "markdown",
     "checksum": "0401788c7fa5078985ee6f789c53ac0e",
     "grade": false,
     "grade_id": "cell-ec3ac932d4ee6d38",
     "locked": true,
     "schema_version": 3,
     "solution": false,
     "task": false
    }
   },
   "source": [
    "### Alternative formulation\n",
    "\n",
    "Using logarithmic/exponential identities, we can improve arithmetic stability. First, we find the maximum value: \n",
    "\n",
    "$$m= \\underset{x}{\\operatorname{argmax}} x_i$$\n",
    "\n",
    "before offsetting the computation into a more stable operating range, as $y = m + \\log \\displaystyle\\left(\\sum\\limits_{i=1}^{N} \\exp(x_i - m)\\right)$.\n",
    "\n",
    "With this formulation, the largest value passed to the exponential function is $0$. If there are large negative values after subtraction, they will become zero after exponentiation -- as they *should* given limited precision arithmetic operations.\n",
    "\n",
    "<font color='blue'>Your task is to **implement the more stable formulation** described above.</font> "
   ]
  },
  {
   "cell_type": "code",
   "execution_count": 10,
   "metadata": {
    "deletable": false,
    "nbgrader": {
     "cell_type": "code",
     "checksum": "f0bc4c131d234c085d0f190972ea50cb",
     "grade": false,
     "grade_id": "cell-c85967a387963c3b",
     "locked": false,
     "schema_version": 3,
     "solution": true,
     "task": false
    }
   },
   "outputs": [],
   "source": [
    "def LogSumExpAlternative(x):\n",
    "  ret = 0\n",
    "  # YOUR CODE HERE\n",
    "  largest = max(x)\n",
    "  ret = largest + log(sum(exp(x-largest)))\n",
    "  \n",
    "  \n",
    "  return ret"
   ]
  },
  {
   "cell_type": "markdown",
   "metadata": {
    "deletable": false,
    "editable": false,
    "nbgrader": {
     "cell_type": "markdown",
     "checksum": "389614b605809e3c1fa6a6f0deb4f355",
     "grade": false,
     "grade_id": "cell-1753bdd45d3ef2db",
     "locked": true,
     "schema_version": 3,
     "solution": false,
     "task": false
    }
   },
   "source": [
    "<font color='blue'>**`Run`** the following cell to compare the alternative formulation with the naive approach</font>"
   ]
  },
  {
   "cell_type": "code",
   "execution_count": 11,
   "metadata": {
    "deletable": false,
    "editable": false,
    "nbgrader": {
     "cell_type": "code",
     "checksum": "01aad339e2d4b1b220264cec6b37120d",
     "grade": false,
     "grade_id": "cell-929c42e39224f227",
     "locked": true,
     "schema_version": 3,
     "solution": false,
     "task": false
    }
   },
   "outputs": [
    {
     "name": "stdout",
     "output_type": "stream",
     "text": [
      "Naive computation: inf \n",
      "\n",
      "Alternative computation: 1298.0 \n",
      "\n"
     ]
    }
   ],
   "source": [
    "x = array([1000,988,1298,1100])\n",
    "\n",
    "y_1 = LogSumExpNaive(x)\n",
    "y_2 = LogSumExpAlternative(x)\n",
    "\n",
    "print(\"Naive computation: {} \\n\".format(y_1))\n",
    "print(\"Alternative computation: {} \\n\".format(y_2))"
   ]
  },
  {
   "cell_type": "code",
   "execution_count": 12,
   "metadata": {
    "deletable": false,
    "editable": false,
    "nbgrader": {
     "cell_type": "code",
     "checksum": "cc3db7f10bcc31c7a836ce8d0215ffe6",
     "grade": true,
     "grade_id": "cell-e71edf25103f54c7",
     "locked": true,
     "points": 0.5,
     "schema_version": 3,
     "solution": false,
     "task": false
    }
   },
   "outputs": [],
   "source": [
    "x = array([1000,988,1298,1100])\n",
    "y = LogSumExpAlternative(x)\n",
    "assert (y - 1298.0) < 1e-5"
   ]
  },
  {
   "cell_type": "markdown",
   "metadata": {
    "deletable": false,
    "editable": false,
    "nbgrader": {
     "cell_type": "markdown",
     "checksum": "5d4c0a5ee20cd655d9e11201ae59a025",
     "grade": false,
     "grade_id": "cell-ad53877cc72c0f2d",
     "locked": true,
     "schema_version": 3,
     "solution": false,
     "task": false
    }
   },
   "source": [
    "## Task 3 - Iterative approximation of an integral\n",
    "We will explore two numerical approaches for computing the following integral, parameterized by $n$:\n",
    "\n",
    "$$I_n = \\displaystyle\\int_0^1 f(x,\\,n) \\, d x = \\displaystyle\\int_0^1 \\frac{x^n}{x+10} \\, d x~.$$\n",
    "\n",
    "### Baseline - Riemann sum\n",
    "\n",
    "Fist, we provide code for a baseline approximating of the integral using a *Riemann sum*. \n",
    "The Riemann sum of $f(x,\\,n)$ over $[0,1]$ is\n",
    "$$I_n \\approx \\displaystyle\\sum_{k=0}^{M-1} f\\left(\\left[\\frac{1}{2}+k\\right]\\Delta x,\\, n\\right) \\Delta x$$\n",
    "where $\\Delta x = {1}\\big/{M}$ and $M$ is the number of discrete points. This discretization is computationally expensive but numerically stable.\n",
    "\n",
    "<font color='blue'>We provide you with the code for the Riemann sum, with $M = 10$. **`Run`** the following cell.</font>"
   ]
  },
  {
   "cell_type": "code",
   "execution_count": 13,
   "metadata": {
    "deletable": false,
    "editable": false,
    "nbgrader": {
     "cell_type": "code",
     "checksum": "203878d29a67912890aa38e2c6814164",
     "grade": false,
     "grade_id": "cell-7cb56e7b54d74545",
     "locked": true,
     "schema_version": 3,
     "solution": false,
     "task": false
    }
   },
   "outputs": [],
   "source": [
    "def riemann(N): \n",
    "  \n",
    "  if N == 0:\n",
    "    return log(11) - log(10)\n",
    "  \n",
    "  f = lambda x, k: x**k / (x+10)\n",
    "  \n",
    "  M = 10\n",
    "  dx = 1/M\n",
    "  x = linspace(dx/2, 1-dx/2, M)\n",
    "  return sum(f(x, N)) * dx"
   ]
  },
  {
   "cell_type": "markdown",
   "metadata": {
    "deletable": false,
    "editable": false,
    "nbgrader": {
     "cell_type": "markdown",
     "checksum": "123967ba720938a3058502e8184d4412",
     "grade": false,
     "grade_id": "cell-e66c2b44c13d39f4",
     "locked": true,
     "schema_version": 3,
     "solution": false,
     "task": false
    }
   },
   "source": [
    "### Alternative - Recursive formulation\n",
    "\n",
    "Recursively applying *integration by part* yields the following closed form recursive solution for the integral:\n",
    "$$I_n = \\begin{cases}\n",
    "\\ln(11)-\\ln(10) & \\text{ for } n=0\\\\\n",
    "{1}\\big/{n}- 10 \\, I_{n-1} & \\text{ for } n\\geq1\n",
    "\\end{cases}~.$$\n",
    "The recursive formulation is numerically less stable but much more computationally efficient than the Riemann sum.\n",
    "\n",
    "<font color='blue'>Your task is to **implement this recursive formulation**.</font>"
   ]
  },
  {
   "cell_type": "code",
   "execution_count": 14,
   "metadata": {
    "deletable": false,
    "nbgrader": {
     "cell_type": "code",
     "checksum": "e26634abfe91971189154a32553db017",
     "grade": false,
     "grade_id": "cell-9d41101afe6aee5f",
     "locked": false,
     "schema_version": 3,
     "solution": true,
     "task": false
    }
   },
   "outputs": [],
   "source": [
    "def recursive(N):\n",
    "  ret = 0\n",
    "  # YOUR CODE HERE\n",
    "  if N == 0:\n",
    "    return log(11)-log(10)\n",
    "  ret = 1/N-10*recursive(N-1)  \n",
    "  \n",
    "  return ret"
   ]
  },
  {
   "cell_type": "markdown",
   "metadata": {
    "deletable": false,
    "editable": false,
    "nbgrader": {
     "cell_type": "markdown",
     "checksum": "e1373bb42baa795dd02fada741de7adf",
     "grade": false,
     "grade_id": "cell-219a9f236ab1875e",
     "locked": true,
     "schema_version": 3,
     "solution": false,
     "task": false
    }
   },
   "source": [
    " <font color='blue'>**`Run`** the following cell to compare the recursive formulation against the baseline.</font>"
   ]
  },
  {
   "cell_type": "code",
   "execution_count": 15,
   "metadata": {
    "deletable": false,
    "editable": false,
    "nbgrader": {
     "cell_type": "code",
     "checksum": "6851e48a47b617f498744f3fd6b76e14",
     "grade": false,
     "grade_id": "cell-8a294c59ce9a14d8",
     "locked": true,
     "schema_version": 3,
     "solution": false,
     "task": false
    }
   },
   "outputs": [
    {
     "data": {
      "image/png": "[encoded data removed]",
      "text/plain": [
       "<Figure size 432x288 with 1 Axes>"
      ]
     },
     "metadata": {
      "needs_background": "light"
     },
     "output_type": "display_data"
    }
   ],
   "source": [
    "y_1 = []\n",
    "y_2 = []\n",
    "for i in range(20):\n",
    "  y_1.append(riemann(i))\n",
    "  y_2.append(recursive(i))\n",
    "\n",
    "plt.plot(y_1, 'r', label=\"Riemann\", alpha=0.7)\n",
    "plt.plot(y_2, 'b', label=\"Recursive\", alpha=0.7)\n",
    "plt.xlabel('$n$')\n",
    "plt.ylabel('$I_n$')\n",
    "plt.title('Robustness of integral evaluation')\n",
    "plt.legend(bbox_to_anchor=(1.05, 1), loc='upper left', borderaxespad=0.)\n",
    "plt.show();"
   ]
  },
  {
   "cell_type": "code",
   "execution_count": 16,
   "metadata": {
    "deletable": false,
    "editable": false,
    "nbgrader": {
     "cell_type": "code",
     "checksum": "f55bfb5c945f241321133add5d3d7048",
     "grade": true,
     "grade_id": "cell-526f2ee94c41a06b",
     "locked": true,
     "points": 0.5,
     "schema_version": 3,
     "solution": false,
     "task": false
    }
   },
   "outputs": [],
   "source": [
    "assert (recursive(5) - 0.0153529) < 1e-5"
   ]
  },
  {
   "cell_type": "markdown",
   "metadata": {
    "deletable": false,
    "editable": false,
    "nbgrader": {
     "cell_type": "markdown",
     "checksum": "96991cb3a2a4f4bbbc80ded08b057add",
     "grade": false,
     "grade_id": "cell-fbfca69489314485",
     "locked": true,
     "schema_version": 3,
     "solution": false,
     "task": false
    }
   },
   "source": [
    "## Task 4 - Computing a moving average\n",
    "\n",
    "We will compute the *moving average* -- over a window of size $K$ -- of a stream of randomly generated values. Some examples of such a moving average include the frame rate counters in video games or the average speed of a car over the last few seconds.  \n",
    "\n",
    "Like previous tasks, we provide you with two different methods to achieve the same goal but with distinct trade-offs.\n",
    "\n",
    "### Naive method\n",
    "\n",
    "Here we simply compute the average of last $K$ samples at every time step:\n",
    "\n",
    "$$\\mu_t = \\displaystyle\\sum\\limits_{i = t-K +1}^{t}a_i~.$$\n",
    "\n",
    "This method is more numerically stable but requires more computation, since the average is completely recomputed -- i.e., over all $K$ samples -- at each step.\n",
    "\n",
    "<font color='blue'>We provide you with the code for the naive method. **`Run`** the following cell.</font>"
   ]
  },
  {
   "cell_type": "code",
   "execution_count": 17,
   "metadata": {
    "deletable": false,
    "editable": false,
    "nbgrader": {
     "cell_type": "code",
     "checksum": "e0dc83960ccd73a1b0624211b087553a",
     "grade": false,
     "grade_id": "cell-cf403645d7cdb9ea",
     "locked": true,
     "schema_version": 3,
     "solution": false,
     "task": false
    }
   },
   "outputs": [],
   "source": [
    "def MovAvgNaive(samples, K):\n",
    "  window_t = zeros(K, dtype=float32)\n",
    "  movingAvg = []\n",
    "    \n",
    "  for sample in samples:\n",
    "    window_t = roll(window_t, -1)\n",
    "    \n",
    "    # place the latest element to the right of the window\n",
    "    window_t[-1] = sample\n",
    "    \n",
    "    mu_t = float32(0)\n",
    "    \n",
    "    for subsample in  window_t:\n",
    "      mu_t += subsample\n",
    "    \n",
    "    mu_t /= float32(K)\n",
    "    movingAvg.append(mu_t)\n",
    "\n",
    "  return movingAvg"
   ]
  },
  {
   "cell_type": "markdown",
   "metadata": {
    "deletable": false,
    "editable": false,
    "nbgrader": {
     "cell_type": "markdown",
     "checksum": "9c676e7cabc974df07acea302657b561",
     "grade": false,
     "grade_id": "cell-3090b0a5a766a7b3",
     "locked": true,
     "schema_version": 3,
     "solution": false,
     "task": false
    }
   },
   "source": [
    "### The efficient method \n",
    "\n",
    "The idea here is to update the average from its previous value by adding and subtracting the newest and oldest samples from sliding window:\n",
    "\n",
    "$$\\mu_t = \\mu_{t-1} + \\frac{a_t - a_{t-K}}{K}$$\n",
    "\n",
    "This approach is quite efficient since we only perform a few operations at each step, but it suffers from numerical instability. This is especially true when the difference between the two terms $a_t$ and $a_{t - K}$ is small.\n",
    "\n",
    "<font color='blue'>Your task is to **implement the efficient formulation** as described above.</font>"
   ]
  },
  {
   "cell_type": "code",
   "execution_count": 18,
   "metadata": {
    "deletable": false,
    "nbgrader": {
     "cell_type": "code",
     "checksum": "7ecdb790bc6ed194b520cf3b62dc4869",
     "grade": false,
     "grade_id": "cell-966749f63d4b8943",
     "locked": false,
     "schema_version": 3,
     "solution": true,
     "task": false
    }
   },
   "outputs": [],
   "source": [
    "def MovAvgEfficient(samples, K):\n",
    "  mu_t = float32(0)\n",
    "  window_t = zeros(K, dtype=float32)\n",
    "  movingAvg = []\n",
    "  \n",
    "  # YOUR CODE HERE\n",
    "  for sample in samples:\n",
    "        mu_t -= ((sample - window_t[0])/float32(K))\n",
    "        movingAvg.append(mu_t)\n",
    "        window_t = roll(window_t, -1)\n",
    "        window_t[-1] = sample\n",
    "  \n",
    "\n",
    "  return movingAvg"
   ]
  },
  {
   "cell_type": "markdown",
   "metadata": {
    "deletable": false,
    "editable": false,
    "nbgrader": {
     "cell_type": "markdown",
     "checksum": "c7cbb9e9e5005890cb4b3f5ff1bbc245",
     "grade": false,
     "grade_id": "cell-5aec413f6ac5fbe0",
     "locked": true,
     "schema_version": 3,
     "solution": false,
     "task": false
    }
   },
   "source": [
    "<font color='blue'>**`Run`** the following cell to compare the naive and efficient method.</font>"
   ]
  },
  {
   "cell_type": "code",
   "execution_count": 19,
   "metadata": {
    "deletable": false,
    "editable": false,
    "nbgrader": {
     "cell_type": "code",
     "checksum": "a7e87eade9f0e1f7df0172dbbdec5378",
     "grade": false,
     "grade_id": "cell-2a929b6bb8f9c9b6",
     "locked": true,
     "schema_version": 3,
     "solution": false,
     "task": false
    }
   },
   "outputs": [
    {
     "data": {
      "image/png": "[encoded data removed]",
      "text/plain": [
       "<Figure size 432x288 with 1 Axes>"
      ]
     },
     "metadata": {
      "needs_background": "light"
     },
     "output_type": "display_data"
    }
   ],
   "source": [
    "# mean, std, number of samples\n",
    "mean = 10**0\n",
    "stdDev = 10**-6\n",
    "N = 100000\n",
    "samples = normal(mean, stdDev, N).astype(float32)\n",
    "K = 10\n",
    "\n",
    "movingAvgNaive = MovAvgNaive(samples, K)\n",
    "movingAvgEfficient = MovAvgEfficient(samples, K)\n",
    "\n",
    "plt.plot(movingAvgNaive[K :-K], 'r', label=\"Naive\", alpha=0.7)\n",
    "plt.plot(movingAvgEfficient[K :-K], 'b', label=\"Efficient\", alpha=0.7)\n",
    "plt.xlabel('$t$')\n",
    "plt.ylabel('$\\mu_t$')\n",
    "plt.title('Robustness of Moving Average Computation')\n",
    "plt.legend(bbox_to_anchor=(1.05, 1), loc='upper left', borderaxespad=0.)\n",
    "plt.show();"
   ]
  },
  {
   "cell_type": "code",
   "execution_count": 20,
   "metadata": {
    "deletable": false,
    "editable": false,
    "nbgrader": {
     "cell_type": "code",
     "checksum": "275d21d0620f57aa4e2f12b9675ee060",
     "grade": true,
     "grade_id": "cell-b61d0602fa7e7de0",
     "locked": true,
     "points": 0.5,
     "schema_version": 3,
     "solution": false,
     "task": false
    }
   },
   "outputs": [],
   "source": [
    "samples = array([1, 2, 3, 4, 5, 6, 7])\n",
    "movingAvg = MovAvgEfficient(samples, 3)\n",
    "\n",
    "assert (movingAvg[6] - 6.0) < 1e-5\n"
   ]
  },
  {
   "cell_type": "markdown",
   "metadata": {
    "deletable": false,
    "editable": false,
    "nbgrader": {
     "cell_type": "markdown",
     "checksum": "e0721b0d12a6c595ec769be9ba868d14",
     "grade": false,
     "grade_id": "cell-62ec347be34a8903",
     "locked": true,
     "schema_version": 3,
     "solution": false,
     "task": false
    }
   },
   "source": [
    "## Task 5 - Computing the variance of random samples\n",
    "\n",
    "Our goal is to compute the variance of a large number of random samples $x_i$ drawn from a normal distribution, with variance $\\sigma = 1$ and mean $\\mu$. We compare two techniques for computing the variance from empirical samples.  \n",
    "\n",
    "### The two loop method\n",
    "\n",
    "This approach requires two separate loops. The first computes the sample mean:\n",
    "$$\\mu = \\frac{1}{N}\\displaystyle\\sum\\limits_{i=1}^N x_i ~,$$\n",
    "and the second computes the variance:\n",
    "$$\\sigma_1^2 = \\frac{1}{N-1}\\displaystyle\\sum\\limits_{i=1}^N (x_i-\\mu)^2~.$$\n",
    "This approach is costly when the number of samples is high, but quite robust.\n",
    "\n",
    "<font color='blue'>Your task is to **implement this two loop method**</font> "
   ]
  },
  {
   "cell_type": "code",
   "execution_count": 21,
   "metadata": {
    "deletable": false,
    "nbgrader": {
     "cell_type": "code",
     "checksum": "5c37eedf40129ec1cda39935680a9c0c",
     "grade": false,
     "grade_id": "cell-305fc183ef623a0e",
     "locked": false,
     "schema_version": 3,
     "solution": true,
     "task": false
    }
   },
   "outputs": [],
   "source": [
    "def VarianceMeth1(samples, N):\n",
    "  mu = float32(0)\n",
    "  # YOUR CODE HERE\n",
    "  sigmaSq = float32(0)\n",
    "  mu = sum(samples)/N\n",
    "  sigmaSq = sum((samples - mu)**2)/(N-1)\n",
    "  \n",
    "  return sigmaSq"
   ]
  },
  {
   "cell_type": "markdown",
   "metadata": {
    "deletable": false,
    "editable": false,
    "nbgrader": {
     "cell_type": "markdown",
     "checksum": "1a49e3591f992c4b8edd9585c8033479",
     "grade": false,
     "grade_id": "cell-4d6068018f599fb5",
     "locked": true,
     "schema_version": 3,
     "solution": false,
     "task": false
    }
   },
   "source": [
    "### The one loop method\n",
    "\n",
    "This formulation computes the variance using only one loop by developing the square in the original formula and using properties of the mean:\n",
    "\n",
    "$$\\sigma_2^2 = \\frac{1}{N-1}\\left(\\displaystyle\\sum\\limits_{i=1}^N x_i^2 - N\\mu^2\\right)$$\n",
    "\n",
    "This approach is somewhat faster but it is less robust than its two loop counterpart. \n",
    "\n",
    "<font color='blue'>We provide you with the code for the one loop method. **`Run`** the following cell.</font>"
   ]
  },
  {
   "cell_type": "code",
   "execution_count": 22,
   "metadata": {
    "deletable": false,
    "editable": false,
    "nbgrader": {
     "cell_type": "code",
     "checksum": "d126c6e7a61e9a68cb6a0885468d54ce",
     "grade": false,
     "grade_id": "cell-affa994cc4bf2851",
     "locked": true,
     "schema_version": 3,
     "solution": false,
     "task": false
    }
   },
   "outputs": [],
   "source": [
    "def VarianceMeth2(samples, N):\n",
    "\n",
    "  mu = float32(0)\n",
    "  sampleSumSq = float32(0)\n",
    "    \n",
    "  for sample in  samples:\n",
    "    mu += sample\n",
    "    sampleSumSq += sample**2\n",
    "  mu /= float32(N)\n",
    "  \n",
    "  sigmaSq = (sampleSumSq - float32(N)*mu**2)/float32(N-1)\n",
    "\n",
    "  return sigmaSq"
   ]
  },
  {
   "cell_type": "markdown",
   "metadata": {
    "deletable": false,
    "editable": false,
    "nbgrader": {
     "cell_type": "markdown",
     "checksum": "576727893f8a177f2279a6a4a6513bbf",
     "grade": false,
     "grade_id": "cell-95a197ef952bab4c",
     "locked": true,
     "schema_version": 3,
     "solution": false,
     "task": false
    }
   },
   "source": [
    "<font color='blue'>**`Run`** the following cell to compare the two approaches.</font>"
   ]
  },
  {
   "cell_type": "code",
   "execution_count": 23,
   "metadata": {
    "deletable": false,
    "editable": false,
    "nbgrader": {
     "cell_type": "code",
     "checksum": "803cedbf8e243c92219af880fd5ee932",
     "grade": false,
     "grade_id": "cell-b5dd0d76c55746b7",
     "locked": true,
     "schema_version": 3,
     "solution": false,
     "task": false
    }
   },
   "outputs": [
    {
     "data": {
      "image/png": "[encoded data removed]",
      "text/plain": [
       "<Figure size 432x288 with 1 Axes>"
      ]
     },
     "metadata": {
      "needs_background": "light"
     },
     "output_type": "display_data"
    }
   ],
   "source": [
    "errorMeth1 = []\n",
    "errorMeth2 = []\n",
    "\n",
    "# means, std, number of samples\n",
    "means = 10**arange(0.0, 3.0, 0.1)\n",
    "stdDev = 10**0\n",
    "variance = stdDev**2\n",
    "N = 10000\n",
    "\n",
    "for mean in means:\n",
    "  samples = (normal(mean, stdDev, N)).astype(float32)\n",
    "\n",
    "  # Method 1\n",
    "  sigmaSq_1 = VarianceMeth1(samples, N)\n",
    "  errorMeth1.append((variance-sigmaSq_1))\n",
    "\n",
    "  # Method 2 (could be done in 1 loop instead of using sum)\n",
    "  sigmaSq_2 = VarianceMeth2(samples, N)\n",
    "  errorMeth2.append((variance-sigmaSq_2))\n",
    "\n",
    "plt.plot(means, errorMeth1, 'r', label=\"Method 1\")\n",
    "plt.plot(means, errorMeth2, 'b', label=\"Method 2\")\n",
    "plt.xlabel('$\\mu$')\n",
    "plt.ylabel('$\\sigma_N^2-\\sigma^2$')\n",
    "plt.title('Robustness of Variance Computation')\n",
    "plt.legend(bbox_to_anchor=(1.05, 1), loc='upper left', borderaxespad=0.)\n",
    "plt.show()"
   ]
  },
  {
   "cell_type": "code",
   "execution_count": 24,
   "metadata": {
    "deletable": false,
    "editable": false,
    "nbgrader": {
     "cell_type": "code",
     "checksum": "47e074bc63f0f3cd1fb524b2597a6df2",
     "grade": true,
     "grade_id": "cell-8eb6b0e34f6d4790",
     "locked": true,
     "points": 0.5,
     "schema_version": 3,
     "solution": false,
     "task": false
    }
   },
   "outputs": [],
   "source": [
    "samples = arange(0, 10000, 1)\n",
    "assert (VarianceMeth1(samples, samples.shape[0]) - 8334166) < 1e4"
   ]
  }
 ],
 "metadata": {
  "kernelspec": {
   "display_name": "Python 3",
   "language": "python",
   "name": "python3"
  },
  "language_info": {
   "codemirror_mode": {
    "name": "ipython",
    "version": 3
   },
   "file_extension": ".py",
   "mimetype": "text/x-python",
   "name": "python",
   "nbconvert_exporter": "python",
   "pygments_lexer": "ipython3",
   "version": "3.7.4"
  }
 },
 "nbformat": 4,
 "nbformat_minor": 2
}
